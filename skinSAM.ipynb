{
 "cells": [
  {
   "cell_type": "code",
   "execution_count": 1,
   "metadata": {},
   "outputs": [],
   "source": [
    "import cv2\n",
    "import numpy as np\n",
    "import os \n",
    "import PIL\n",
    "from matplotlib import pyplot as plt"
   ]
  },
  {
   "cell_type": "code",
   "execution_count": 2,
   "metadata": {},
   "outputs": [
    {
     "name": "stdout",
     "output_type": "stream",
     "text": [
      "Requirement already satisfied: transformers in /home/lorenzo/miniconda3/envs/tcc/lib/python3.10/site-packages (4.40.0)\n",
      "Requirement already satisfied: filelock in /home/lorenzo/miniconda3/envs/tcc/lib/python3.10/site-packages (from transformers) (3.13.4)\n",
      "Requirement already satisfied: huggingface-hub<1.0,>=0.19.3 in /home/lorenzo/miniconda3/envs/tcc/lib/python3.10/site-packages (from transformers) (0.22.2)\n",
      "Requirement already satisfied: numpy>=1.17 in /home/lorenzo/miniconda3/envs/tcc/lib/python3.10/site-packages (from transformers) (1.26.4)\n",
      "Requirement already satisfied: packaging>=20.0 in /home/lorenzo/miniconda3/envs/tcc/lib/python3.10/site-packages (from transformers) (24.0)\n",
      "Requirement already satisfied: pyyaml>=5.1 in /home/lorenzo/miniconda3/envs/tcc/lib/python3.10/site-packages (from transformers) (6.0.1)\n",
      "Requirement already satisfied: regex!=2019.12.17 in /home/lorenzo/miniconda3/envs/tcc/lib/python3.10/site-packages (from transformers) (2024.4.16)\n",
      "Requirement already satisfied: requests in /home/lorenzo/miniconda3/envs/tcc/lib/python3.10/site-packages (from transformers) (2.31.0)\n",
      "Requirement already satisfied: tokenizers<0.20,>=0.19 in /home/lorenzo/miniconda3/envs/tcc/lib/python3.10/site-packages (from transformers) (0.19.1)\n",
      "Requirement already satisfied: safetensors>=0.4.1 in /home/lorenzo/miniconda3/envs/tcc/lib/python3.10/site-packages (from transformers) (0.4.3)\n",
      "Requirement already satisfied: tqdm>=4.27 in /home/lorenzo/miniconda3/envs/tcc/lib/python3.10/site-packages (from transformers) (4.66.2)\n",
      "Requirement already satisfied: fsspec>=2023.5.0 in /home/lorenzo/miniconda3/envs/tcc/lib/python3.10/site-packages (from huggingface-hub<1.0,>=0.19.3->transformers) (2024.3.1)\n",
      "Requirement already satisfied: typing-extensions>=3.7.4.3 in /home/lorenzo/miniconda3/envs/tcc/lib/python3.10/site-packages (from huggingface-hub<1.0,>=0.19.3->transformers) (4.11.0)\n",
      "Requirement already satisfied: charset-normalizer<4,>=2 in /home/lorenzo/miniconda3/envs/tcc/lib/python3.10/site-packages (from requests->transformers) (3.3.2)\n",
      "Requirement already satisfied: idna<4,>=2.5 in /home/lorenzo/miniconda3/envs/tcc/lib/python3.10/site-packages (from requests->transformers) (3.7)\n",
      "Requirement already satisfied: urllib3<3,>=1.21.1 in /home/lorenzo/miniconda3/envs/tcc/lib/python3.10/site-packages (from requests->transformers) (2.2.1)\n",
      "Requirement already satisfied: certifi>=2017.4.17 in /home/lorenzo/miniconda3/envs/tcc/lib/python3.10/site-packages (from requests->transformers) (2024.2.2)\n"
     ]
    },
    {
     "name": "stderr",
     "output_type": "stream",
     "text": [
      "/home/lorenzo/miniconda3/envs/tcc/lib/python3.10/site-packages/tqdm/auto.py:21: TqdmWarning: IProgress not found. Please update jupyter and ipywidgets. See https://ipywidgets.readthedocs.io/en/stable/user_install.html\n",
      "  from .autonotebook import tqdm as notebook_tqdm\n"
     ]
    }
   ],
   "source": [
    "!pip install transformers\n",
    "# Load model directly\n",
    "# Use a pipeline as a high-level helper\n",
    "from transformers import pipeline\n",
    "\n",
    "pipe = pipeline(\"mask-generation\", model=\"ahishamm/skinsam\")\n",
    "\n"
   ]
  },
  {
   "cell_type": "code",
   "execution_count": 3,
   "metadata": {},
   "outputs": [],
   "source": [
    "modelmask_folder = './pad/train/mask/melanoma/'\n",
    "real_images_folder = './pad/train/data/melanoma/'\n",
    "result_folder = './result_sam/' \n",
    "#get the first image from mask folder, then get the corresponding image from real_images_folder, then generate the mask and save the image with the mask on at result_folder\n",
    "image_name = os.listdir(real_images_folder)[3]\n",
    "\n",
    "# Read the image from the path\n",
    "# image = cv2.imread(real_images_folder + image_name)\n",
    "image_path = real_images_folder + image_name\n",
    "image = PIL.Image.open(image_path)\n",
    "#if image size is greater than 1920 1080, resize it\n",
    "if image.size[0] > 1920 or image.size[1] > 1080:\n",
    "    image = image.resize((1920, 1080))\n",
    "    \n",
    "# Generate segmentation mask\n",
    "mask = pipe(image)"
   ]
  },
  {
   "cell_type": "code",
   "execution_count": 4,
   "metadata": {},
   "outputs": [],
   "source": [
    "def apply_mask(image, mask, color=None):\n",
    "    # Convert the mask to a 3 channel image\n",
    "    if color is None:\n",
    "        mask_rgb = cv2.cvtColor(mask, cv2.COLOR_GRAY2RGB)\n",
    "    else:\n",
    "        mask_rgb = np.zeros_like(image)\n",
    "        mask_rgb[mask>0] = color\n",
    "\n",
    "    # Overlay the mask and image\n",
    "    overlay_image = cv2.addWeighted(image, 0.7, mask_rgb, 0.3, 0)\n",
    "\n",
    "    return overlay_image\n",
    "\n"
   ]
  },
  {
   "cell_type": "code",
   "execution_count": 5,
   "metadata": {},
   "outputs": [],
   "source": [
    "masks = mask['masks']"
   ]
  },
  {
   "cell_type": "code",
   "execution_count": 6,
   "metadata": {},
   "outputs": [],
   "source": [
    "import cv2\n",
    "import numpy as np\n",
    "\n",
    "def apply_masks_to_image(image_path, masks):\n",
    "    # Load the image\n",
    "    image = cv2.imread(image_path)\n",
    "    #write original image\n",
    "    cv2.imwrite(f'original_image.jpg', image)\n",
    "\n",
    "    for i, mask in enumerate(masks):\n",
    "        # Ensure the mask is a boolean array\n",
    "        mask = np.array(mask, dtype=bool)\n",
    "\n",
    "        # Apply the mask to the image\n",
    "        masked_image = np.zeros_like(image)\n",
    "        masked_image[mask] = image[mask]\n",
    "\n",
    "        # Save the image\n",
    "        cv2.imwrite(f'masked_image_{i}.jpg', masked_image)\n",
    "apply_masks_to_image(image_path, masks)"
   ]
  }
 ],
 "metadata": {
  "kernelspec": {
   "display_name": "tcc",
   "language": "python",
   "name": "python3"
  },
  "language_info": {
   "codemirror_mode": {
    "name": "ipython",
    "version": 3
   },
   "file_extension": ".py",
   "mimetype": "text/x-python",
   "name": "python",
   "nbconvert_exporter": "python",
   "pygments_lexer": "ipython3",
   "version": "3.10.14"
  }
 },
 "nbformat": 4,
 "nbformat_minor": 2
}
